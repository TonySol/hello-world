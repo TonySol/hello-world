{
 "cells": [
  {
   "cell_type": "code",
   "execution_count": 1,
   "metadata": {},
   "outputs": [],
   "source": [
    "import os\n",
    "import tika\n",
    "tika.initVM()\n",
    "from tika import parser"
   ]
  },
  {
   "cell_type": "code",
   "execution_count": 2,
   "metadata": {},
   "outputs": [
    {
     "name": "stdout",
     "output_type": "stream",
     "text": [
      "in SDS/Approval-GHS-Safety-data-sheet-PUR-AUS-EN-3-2.pdf.pdf -- Found such match: safety data sheet -- 100% SDS file\n",
      "in SDS/Grizly.pdf -- Found such match: safety data sheet -- 100% SDS file\n",
      "in SDS/APP202093-APP202093-Grizly-Max-Safety-Data-Sheet.pdf.pdf -- Found such match: safety data sheet -- 100% SDS file\n",
      "in SDS/LITHIUM-THIONYL-CHLORIDE-CELLS-AND-BATTERIES-RUSSIAN.pdf -- Found such match: паспорт безопасности -- 100% SDS file\n",
      "in SDS/AQ10_MSDS.pdf.pdf -- Found such match: safety data sheet -- 100% SDS file\n",
      "in SDS/CN_MSDS_AClyn-201.pdf -- Found such match: 安全数据表 -- 100% SDS file\n",
      "in SDS/application_fluid_winter_solution_14-12-2018.pdf.pdf -- Found such match: safety data sheet -- 100% SDS file\n",
      "in SDS/Apollo-R-SAE-10W60.pdf.pdf -- Found such match: safety data sheet -- 100% SDS file\n"
     ]
    }
   ],
   "source": [
    "\n",
    "def check_in_directory(directory):\n",
    "    pdf_names_lst = []\n",
    "    # itrate over files in directory\n",
    "    for filename in os.listdir(directory):\n",
    "        if filename.endswith(\".pdf\"):\n",
    "            f = os.path.join(directory, filename) \n",
    "            # checking if it is a file \n",
    "            if os.path.isfile(f): \n",
    "                pdf_names_lst.append(f)\n",
    "    return pdf_names_lst\n",
    "\n",
    "sds_spelling = [\"safety data sheet\", \"паспорт безопасности\", \"安全数据表\"]\n",
    "\n",
    "def convert_pdf_to_text(filename):\n",
    "    parsed = parser.from_file(filename)\n",
    "    #print(parsed[\"metadata\"])\n",
    "    return parsed[\"content\"]\n",
    "\n",
    "\n",
    "for file in check_in_directory(\"SDS\"):\n",
    "    for word in sds_spelling:\n",
    "        if word not in convert_pdf_to_text(file):\n",
    "            continue\n",
    "        else:\n",
    "            print (\"in \" + file + \" -- Found such match: \" + word + \" -- 100% SDS file\")"
   ]
  },
  {
   "cell_type": "code",
   "execution_count": 3,
   "metadata": {},
   "outputs": [
    {
     "name": "stdout",
     "output_type": "stream",
     "text": [
      "SDS/ticket_41219823_48560_1594_.pdf Number of Pages: 2\n",
      "SDS/Approval-GHS-Safety-data-sheet-PUR-AUS-EN-3-2.pdf.pdf Number of Pages: 11\n",
      "100\n",
      "SDS/Grizly.pdf Number of Pages: 6\n",
      "100\n",
      "SDS/APP202093-APP202093-Grizly-Max-Safety-Data-Sheet.pdf.pdf Number of Pages: 6\n",
      "100\n",
      "SDS/LITHIUM-THIONYL-CHLORIDE-CELLS-AND-BATTERIES-RUSSIAN.pdf Number of Pages: 13\n",
      "SDS/AQ10_MSDS.pdf.pdf Number of Pages: 6\n",
      "100\n",
      "SDS/CN_MSDS_AClyn-201.pdf Number of Pages: 7\n",
      "SDS/application_fluid_winter_solution_14-12-2018.pdf.pdf Number of Pages: 11\n",
      "100\n",
      "SDS/Apollo-R-SAE-10W60.pdf.pdf Number of Pages: 9\n",
      "100\n",
      "100\n",
      "0:00:01.501108\n"
     ]
    }
   ],
   "source": [
    "import datetime\n",
    "start = datetime.datetime.now()\n",
    "import PyPDF2\n",
    "import pikepdf\n",
    "import os\n",
    "\n",
    "pdf_names_lst = [] \n",
    "\n",
    "directory = 'SDS'\n",
    "# itrate over files in directory\n",
    "for filename in os.listdir(directory):\n",
    "    if filename.endswith(\".pdf\"):\n",
    "        f = os.path.join(directory, filename) \n",
    "        # checking if it is a file \n",
    "        if os.path.isfile(f): \n",
    "            pdf_names_lst.append(f)\n",
    "            \n",
    "\n",
    "for file in pdf_names_lst:\n",
    "    pdfFileObj = open(file, 'rb')  \n",
    "# creating a pdf reader object \n",
    "    pdfReader = PyPDF2.PdfFileReader(pdfFileObj)\n",
    "# decrypt pdf files\n",
    "    if pdfReader.isEncrypted:\n",
    "        with pikepdf.open(file, allow_overwriting_input=True) as pdf:\n",
    "            pdf.save(file)\n",
    "            pdfReader = PyPDF2.PdfFileReader(pdfFileObj)\n",
    "        \n",
    "\n",
    "# printing number of pages in pdf file \n",
    "    print(file + \" Number of Pages: \" + str(pdfReader.numPages)) \n",
    "  \n",
    "# creating a page object \n",
    "    pageObj = pdfReader.getPage(0) \n",
    "  \n",
    "# extracting text from page \n",
    "    foo = pageObj.extractText()\n",
    "    sds_spelling = [\"SAFETY DATA SHEET\", \"Safety Data Sheet\", \"safety data sheet\", \"Safety\\n \\nData\\n \\nSheet\"]\n",
    "    for i in sds_spelling:\n",
    "        if i in foo:\n",
    "            print(100)\n",
    "        else:\n",
    "            continue\n",
    "\n",
    "#print(foo)\n",
    "# closing the pdf file object \n",
    "pdfFileObj.close() \n",
    "finish = datetime.datetime.now()\n",
    "print (finish-start)"
   ]
  },
  {
   "cell_type": "code",
   "execution_count": null,
   "metadata": {},
   "outputs": [],
   "source": []
  }
 ],
 "metadata": {
  "kernelspec": {
   "display_name": "Python 3",
   "language": "python",
   "name": "python3"
  },
  "language_info": {
   "codemirror_mode": {
    "name": "ipython",
    "version": 3
   },
   "file_extension": ".py",
   "mimetype": "text/x-python",
   "name": "python",
   "nbconvert_exporter": "python",
   "pygments_lexer": "ipython3",
   "version": "3.7.6"
  }
 },
 "nbformat": 4,
 "nbformat_minor": 4
}
